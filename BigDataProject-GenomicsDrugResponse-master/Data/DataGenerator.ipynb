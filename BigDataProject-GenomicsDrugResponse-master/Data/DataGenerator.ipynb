{
 "cells": [
  {
   "cell_type": "markdown",
   "metadata": {},
   "source": [
    "# Genomics Data Generation Code"
   ]
  },
  {
   "cell_type": "code",
   "execution_count": 1,
   "metadata": {},
   "outputs": [],
   "source": [
    "# NCIB SYNTHETIC DATA GENERATOR\n",
    "\n",
    "import sys\n",
    "import random\n",
    "\n",
    "#create GEO matrix: min and max got from actual GEO data\n",
    "def createGEOMatrix(nrow, ncol):\n",
    "    f = open('GEO-' + str(nrow) + '-' + str(ncol) + '.txt', 'w')\n",
    "    f.write(\"geneid, patientid, expression value\\n\")\n",
    "    for i in range(nrow):\n",
    "        for j in range(ncol):\n",
    "            r = random.uniform(-186677, 2005274)\n",
    "            f.write(\"%d, %d, %.2f\\n\" %(i, j, r))\n",
    "\n",
    "#create GO matrix: assume 60K terms. Currently randomly distributed\n",
    "def createGOMatrix(nrow, ncol):\n",
    "    f = open('GO-' + str(nrow) + '-' + str(ncol) + '.txt', 'w')\n",
    "    f.write(\"geneid, goid, whether gene belongs to go\\n\")\n",
    "    for i in range(nrow):\n",
    "        for j in range(nGO):\n",
    "            t = random.randint(0, 1)\n",
    "            f.write(\"%d, %d, %d\\n\" %(i, j, t))\n",
    "\n",
    "#create gene metadata matrix: gene id (same as in GEO and GO matrix -- currently just an index)\n",
    "#target gene if any (again an index)\n",
    "#position\n",
    "#length\n",
    "#function (an index for now)\n",
    "def createGeneMetadataMatrix(nrow, ncol):\n",
    "    f = open('GeneMetaData-' + str(nrow) + '-' + str(ncol) + '.txt', 'w')\n",
    "    f.write(\"id, target, position, length, function\\n\")\n",
    "    for i in range(nrow):\n",
    "        t = random.randint(0, nrow-1) if random.random() < 0.5 else -1 #target gene -- not every gene has a target gene\n",
    "        p = random.randint(0, nbases-1)# position\n",
    "        l = random.randint(min_probe_length, max_probe_length)#length\n",
    "        func = random.randint(0, 1000)#function\n",
    "        f.write(\"%d, %d, %d, %d, %d\\n\" %(i, t, p, l, func))\n",
    "\n",
    "#create patient metadata matrix: sample if (same as in GEO matrix)\n",
    "#age\n",
    "#gender\n",
    "#zipcode\n",
    "#disease\n",
    "#drug response\n",
    "def createPatientMetadataMatrix(nrow, ncol):\n",
    "    f = open('PatientMetaData-' + str(nrow) + '-' + str(ncol) + '.txt', 'w')\n",
    "    f.write(\"id, age, gender, zipcode, disease, drug response\\n\")\n",
    "    for i in range(ncol):\n",
    "        a = random.randint(15, 95)\n",
    "        g = random.randint(0, 1)\n",
    "        z = random.randint(1, 99999)\n",
    "        d = random.randint(0, 20)\n",
    "        dr = random.uniform(0, 100) # ic50 values\n",
    "        f.write(\"%d, %d, %d, %d, %d, %.2f\\n\" %(i, a, g, z, d, dr))\n",
    "\n"
   ]
  },
  {
   "cell_type": "code",
   "execution_count": 2,
   "metadata": {},
   "outputs": [],
   "source": [
    "nrow = 1000\n",
    "ncol = 1000\n",
    "nGO = 60000\n",
    "nbases = 3000000000 # versitality in bases(may impact linearity but more realistic)\n",
    "min_probe_length = 25\n",
    "max_probe_length = 1000 #http://nar.oxfordjournals.org/content/32/12/e99.full\n",
    "createGEOMatrix(nrow, ncol)\n",
    "createGOMatrix(nrow, ncol)\n",
    "createGeneMetadataMatrix(nrow, ncol)\n",
    "createPatientMetadataMatrix(nrow, ncol)"
   ]
  }
 ],
 "metadata": {
  "kernelspec": {
   "display_name": "Python 3",
   "language": "python",
   "name": "python3"
  },
  "language_info": {
   "codemirror_mode": {
    "name": "ipython",
    "version": 3
   },
   "file_extension": ".py",
   "mimetype": "text/x-python",
   "name": "python",
   "nbconvert_exporter": "python",
   "pygments_lexer": "ipython3",
   "version": "3.7.6"
  }
 },
 "nbformat": 4,
 "nbformat_minor": 4
}
